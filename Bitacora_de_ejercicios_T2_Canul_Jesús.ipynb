{
  "nbformat": 4,
  "nbformat_minor": 0,
  "metadata": {
    "colab": {
      "name": "Bitacora de ejercicios T2-Canul Jesús",
      "provenance": [],
      "collapsed_sections": [],
      "toc_visible": true
    },
    "kernelspec": {
      "display_name": "Python 3",
      "name": "python3"
    }
  },
  "cells": [
    {
      "cell_type": "markdown",
      "metadata": {
        "id": "-DgeiL4kurki"
      },
      "source": [
        "## Bitacora de ejercicios en python Tema 2\n",
        "Almuno: Jesús Abraham Canul Couoh \n",
        "ID: 19070034 "
      ]
    },
    {
      "cell_type": "code",
      "metadata": {
        "id": "8uDKwH-clv7X",
        "colab": {
          "base_uri": "https://localhost:8080/"
        },
        "outputId": "3808786e-cbde-44b9-a760-35d1db9c95f0"
      },
      "source": [
        "#Ejercicio 4 por el metodo de bisección\n",
        "\n",
        "import math\n",
        "\n",
        "def fxrporfxi(xi,xr):\n",
        "    fxi=math.tan(xi)-0.1*xi\n",
        "    fxr=math.tan(xr)-0.1*xr\n",
        "    return fxr*fxi\n",
        "def errorabsoluto(xactual,xanterior):\n",
        "    return abs(((xactual-xanterior)/xactual))\n",
        "\n",
        "def b(xi,xs,cotaerr,iter):\n",
        "    err=1\n",
        "    while err>cotaerr:\n",
        "        xr=(xi+xs)/2\n",
        "        err=errorabsoluto(xr,xi)\n",
        "        if fxrporfxi(xi,xr)<0 :\n",
        "            xs=xr\n",
        "        if fxrporfxi(xi,xr)>0:\n",
        "            xi=xr\n",
        "        if fxrporfxi(xi,xr)==0:\n",
        "            err=cotaerr\n",
        "        print (\"Raiz: \",xr,\" Error: \",err)\n",
        "\n",
        "b(math.pi,1.5*math.pi,0.0001,10)"
      ],
      "execution_count": null,
      "outputs": [
        {
          "output_type": "stream",
          "text": [
            "Raiz:  3.9269908169872414  Error:  0.2\n",
            "Raiz:  3.5342917352885173  Error:  0.1111111111111111\n",
            "Raiz:  3.3379421944391554  Error:  0.05882352941176477\n",
            "Raiz:  3.436116964863836  Error:  0.028571428571428477\n",
            "Raiz:  3.4852043500761765  Error:  0.014084507042253475\n",
            "Raiz:  3.4606606574700063  Error:  0.00709219858156026\n",
            "Raiz:  3.4729325037730914  Error:  0.003533568904593628\n",
            "Raiz:  3.479068426924634  Error:  0.0017636684303351548\n",
            "Raiz:  3.4760004653488625  Error:  0.0008826125330979351\n",
            "Raiz:  3.4775344461367483  Error:  0.0004411116012351589\n",
            "Raiz:  3.4767674557428054  Error:  0.00022060445621003866\n",
            "Raiz:  3.476383960545834  Error:  0.00011031439602875722\n",
            "Raiz:  3.4761922129473484  Error:  5.5160240498686315e-05\n"
          ],
          "name": "stdout"
        }
      ]
    },
    {
      "cell_type": "code",
      "metadata": {
        "id": "RbNFYrydWKu9",
        "colab": {
          "base_uri": "https://localhost:8080/"
        },
        "outputId": "ba36f024-5e0d-4002-a804-eed08281f09e"
      },
      "source": [
        "#Ejercicio 7 Por el método de Newton-Rhapson\n",
        "\n",
        "import math\n",
        "    \n",
        "def fx (x):\n",
        "    return math.pow(x,4)-3*math.pow(x,2)-3\n",
        "def derfx(x):\n",
        "    return 4*math.pow(x,3)-6*x\n",
        "def errorabsoluto(xac,xan):\n",
        "    return abs(((xac-xan)/xac))\n",
        "\n",
        "def n(x,cotaerr,iter):\n",
        "    err=1\n",
        "    while err>cotaerr:\n",
        "            xac=x-(fx(x)/derfx(x))\n",
        "            err=errorabsoluto(xac,x)\n",
        "            x=xac\n",
        "            print (\"raiz :\" ,xac, \"error: \" ,err)\n",
        "            \n",
        "n(1,0.01,10)"
      ],
      "execution_count": null,
      "outputs": [
        {
          "output_type": "stream",
          "text": [
            "raiz : -1.5 error:  1.6666666666666667\n",
            "raiz : -2.541666666666667 error:  0.40983606557377056\n",
            "raiz : -2.157901107145521 error:  0.1778420513573915\n",
            "raiz : -1.9848947790151217 error:  0.0871614606272696\n",
            "raiz : -1.9486210696726693 error:  0.018615065754444302\n",
            "raiz : -1.9471254449372817 error:  0.0007681193521847503\n"
          ],
          "name": "stdout"
        }
      ]
    },
    {
      "cell_type": "code",
      "metadata": {
        "id": "wvTPIVU1kry1",
        "colab": {
          "base_uri": "https://localhost:8080/"
        },
        "outputId": "8ce711e1-a459-4d76-e3a3-9ae72e0838fa"
      },
      "source": [
        "#Ejercicio 8 Por el método de Newton-Rhapson\n",
        "\n",
        "import math\n",
        "\n",
        "def fx(x):\n",
        "    return 2*math.sin(math.pi*x)+x\n",
        "def derfx(x):\n",
        "    return 2*math.pi*math.cos(math.pi*x)+1\n",
        "def errorabsoluto(xac,xan):\n",
        "    return ((xac-xan)/xac)\n",
        "def n(x,cotaerr,ite):\n",
        "    err=1\n",
        "    while err>cotaerr:\n",
        "\n",
        "        xac=x-(fx(x)/derfx(x))\n",
        "        err=errorabsoluto(xac,x)\n",
        "        x=xac\n",
        "        print (\"raiz: \", xac,\" error: \", err)\n",
        "\n",
        "n(1,0.01,10)"
      ],
      "execution_count": null,
      "outputs": [
        {
          "output_type": "stream",
          "text": [
            "raiz:  1.1892797511079254  error:  0.1591549430918954\n",
            "raiz:  1.205656458413502  error:  0.01358322861482987\n",
            "raiz:  1.2060349073454595  error:  0.00031379600180094294\n"
          ],
          "name": "stdout"
        }
      ]
    },
    {
      "cell_type": "code",
      "metadata": {
        "id": "ym5dxNY1YReX",
        "colab": {
          "base_uri": "https://localhost:8080/"
        },
        "outputId": "d41aa1a8-8d6f-4794-fdd1-f822aae5c1d7"
      },
      "source": [
        "#Ejercicio 9 Por el método de Newton-Rhapson\n",
        "\n",
        "import math\n",
        "\n",
        "def fx(x):\n",
        "    return math.pow(x,2)-6\n",
        "def derfx(x):\n",
        "    return 2*x\n",
        "def errorabsoluto(xac,xan):\n",
        "  return abs(((xac-xan)/xac))\n",
        "\n",
        "def n(x,cotaerr,iter):\n",
        "  err=1\n",
        "  while err>cotaerr:\n",
        "        xac=x-(fx(x)/derfx(x))\n",
        "        err=errorabsoluto(xac,x)\n",
        "        x=xac\n",
        "        print (\"raiz: \",xac,\" error: \",err)\n",
        "\n",
        "n(1,0.001,10)"
      ],
      "execution_count": null,
      "outputs": [
        {
          "output_type": "stream",
          "text": [
            "raiz:  3.5  error:  0.7142857142857143\n",
            "raiz:  2.607142857142857  error:  0.3424657534246575\n",
            "raiz:  2.454256360078278  error:  0.062294428386325165\n",
            "raiz:  2.4494943716069653  error:  0.0019440699788946818\n",
            "raiz:  2.4494897427875517  error:  1.8897076124417166e-06\n"
          ],
          "name": "stdout"
        }
      ]
    },
    {
      "cell_type": "code",
      "metadata": {
        "id": "UCNXl1fMiHZI",
        "colab": {
          "base_uri": "https://localhost:8080/"
        },
        "outputId": "ce713c72-fce9-484a-9645-7ba079322692"
      },
      "source": [
        "#Ejercicio 10 Por el método de Newton-Rhapson\n",
        "\n",
        "import math\n",
        "\n",
        "def fx(x):\n",
        "    return -math.pow(x,3)-math.cos(x)\n",
        "def derfx(x):\n",
        "    return -3*math.pow(x,2)+math.sin(x)*1\n",
        "def errorabsoluto(xac,xan):\n",
        "    return abs(((xac-xan)/xac))\n",
        "\n",
        "def n(x,cotaerr,iter):\n",
        " err=1\n",
        " while err>cotaerr:\n",
        "        xac=x-(fx(x)/derfx(x))\n",
        "        err=errorabsoluto(xac,x)\n",
        "        x=xac\n",
        "        print (\"raiz: \",xac,\" error: \",err)\n",
        "\n",
        "n(-1,0.001,10)"
      ],
      "execution_count": null,
      "outputs": [
        {
          "output_type": "stream",
          "text": [
            "raiz:  -0.880332899571582  error:  0.13593391827870405\n",
            "raiz:  -0.8656841631760818  error:  0.01692157142133217\n",
            "raiz:  -0.865474075952977  error:  0.00024274236391593181\n"
          ],
          "name": "stdout"
        }
      ]
    }
  ]
}